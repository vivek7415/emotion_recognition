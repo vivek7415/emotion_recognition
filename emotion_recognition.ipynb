{
 "cells": [
  {
   "cell_type": "code",
   "execution_count": 1,
   "metadata": {},
   "outputs": [],
   "source": [
    "import sys\n",
    "import os\n",
    "import numpy as np\n",
    "import pandas as pd\n",
    "import matplotlib.pyplot as plt\n",
    "import tensorflow as tf\n"
   ]
  },
  {
   "cell_type": "code",
   "execution_count": 2,
   "metadata": {},
   "outputs": [
    {
     "name": "stderr",
     "output_type": "stream",
     "text": [
      "Using TensorFlow backend.\n"
     ]
    }
   ],
   "source": [
    "from keras.models import Sequential\n",
    "from keras.layers import Dense, Dropout, Activation, Flatten\n",
    "from keras.layers import Conv2D, MaxPooling2D, BatchNormalization\n",
    "from keras.losses import CategoricalCrossentropy\n",
    "from keras.optimizers import Adam\n",
    "from keras.regularizers import l2\n",
    "from keras.utils import np_utils"
   ]
  },
  {
   "cell_type": "code",
   "execution_count": 3,
   "metadata": {},
   "outputs": [
    {
     "name": "stdout",
     "output_type": "stream",
     "text": [
      "   emotion     Usage                                             pixels\n",
      "0        0  Training  70 80 82 72 58 58 60 63 54 58 60 48 89 115 121...\n",
      "1        0  Training  151 150 147 155 148 133 111 140 170 174 182 15...\n",
      "2        2  Training  231 212 156 164 174 138 161 173 182 200 106 38...\n",
      "3        4  Training  24 32 36 30 32 23 19 20 30 41 21 22 32 34 21 1...\n",
      "4        6  Training  4 0 0 0 0 0 0 0 0 0 0 0 3 15 23 28 48 50 58 84...\n",
      "<class 'pandas.core.frame.DataFrame'>\n",
      "RangeIndex: 35887 entries, 0 to 35886\n",
      "Data columns (total 3 columns):\n",
      "emotion    35887 non-null int64\n",
      " Usage     35887 non-null object\n",
      " pixels    35887 non-null object\n",
      "dtypes: int64(1), object(2)\n",
      "memory usage: 841.2+ KB\n",
      "None\n"
     ]
    }
   ],
   "source": [
    "df = pd.read_csv('C:/Users/vivek/desktop/emotion_analysis/face_data.csv')\n",
    "print(df.head())\n",
    "print(df.info())\n",
    "\n"
   ]
  },
  {
   "cell_type": "code",
   "execution_count": 4,
   "metadata": {},
   "outputs": [],
   "source": [
    "x = df.iloc[4,2]"
   ]
  },
  {
   "cell_type": "code",
   "execution_count": 5,
   "metadata": {},
   "outputs": [],
   "source": [
    "x = np.array(x.split(' '), dtype='float32')"
   ]
  },
  {
   "cell_type": "code",
   "execution_count": 6,
   "metadata": {},
   "outputs": [],
   "source": [
    "x = x.reshape(48,48)"
   ]
  },
  {
   "cell_type": "code",
   "execution_count": 7,
   "metadata": {},
   "outputs": [
    {
     "data": {
      "text/plain": [
       "<matplotlib.image.AxesImage at 0x2988ffd8fc8>"
      ]
     },
     "execution_count": 7,
     "metadata": {},
     "output_type": "execute_result"
    },
    {
     "data": {
      "image/png": "[encoded data removed]",
      "text/plain": [
       "<Figure size 432x288 with 1 Axes>"
      ]
     },
     "metadata": {
      "needs_background": "light"
     },
     "output_type": "display_data"
    }
   ],
   "source": [
    "plt.imshow(x)"
   ]
  },
  {
   "cell_type": "code",
   "execution_count": 8,
   "metadata": {},
   "outputs": [
    {
     "name": "stdout",
     "output_type": "stream",
     "text": [
      "X_train sample data: [array([ 70.,  80.,  82., ..., 106., 109.,  82.], dtype=float32), array([151., 150., 147., ..., 193., 183., 184.], dtype=float32)]\n",
      "Y_train sample data: [0, 0]\n",
      "X_test sample data: [array([254., 254., 254., ...,  42., 129., 180.], dtype=float32), array([156., 184., 198., ..., 172., 167., 161.], dtype=float32)]\n",
      "Y_test sample data: [0, 1]\n"
     ]
    }
   ],
   "source": [
    "X_train, Y_train, X_test, Y_test = [],[],[],[]\n",
    "\n",
    "for index, row in df.iterrows():\n",
    "    val = row[2].split(' ')\n",
    "    try:\n",
    "        if 'Training' in row[1]:\n",
    "            X_train.append(np.array(val, dtype='float32'))\n",
    "            Y_train.append(row[0])\n",
    "        elif 'PublicTest' in row[1]:\n",
    "            X_test.append(np.array(val, dtype='float32'))\n",
    "            Y_test.append(row[0])\n",
    "    except:\n",
    "        print(f\"error occured at index: {index} and row: {row}\")\n",
    "\n",
    "print(f'X_train sample data: {X_train[0:2]}')\n",
    "print(f'Y_train sample data: {Y_train[0:2]}')\n",
    "print(f'X_test sample data: {X_test[0:2]}')\n",
    "print(f'Y_test sample data: {Y_test[0:2]}')"
   ]
  },
  {
   "cell_type": "code",
   "execution_count": 9,
   "metadata": {},
   "outputs": [],
   "source": [
    "X_train = np.array(X_train, 'float32')\n",
    "Y_train = np.array(Y_train, 'float32')\n",
    "X_test = np.array(X_test, 'float32')\n",
    "Y_test = np.array(Y_test, 'float32')"
   ]
  },
  {
   "cell_type": "code",
   "execution_count": 10,
   "metadata": {},
   "outputs": [],
   "source": [
    "X_train -= np.mean(X_train, axis=0)\n",
    "X_train /= np.std(X_train, axis=0)\n",
    "\n",
    "X_test -= np.mean(X_test, axis=0)\n",
    "X_test /= np.std(X_test, axis=0)"
   ]
  },
  {
   "cell_type": "code",
   "execution_count": 11,
   "metadata": {},
   "outputs": [
    {
     "name": "stdout",
     "output_type": "stream",
     "text": [
      "(48, 48)\n"
     ]
    },
    {
     "data": {
      "text/plain": [
       "<matplotlib.image.AxesImage at 0x298a1fdbd08>"
      ]
     },
     "execution_count": 11,
     "metadata": {},
     "output_type": "execute_result"
    },
    {
     "data": {
      "image/png": "[encoded data removed]",
      "text/plain": [
       "<Figure size 432x288 with 1 Axes>"
      ]
     },
     "metadata": {
      "needs_background": "light"
     },
     "output_type": "display_data"
    }
   ],
   "source": [
    "X_Train = X_train.reshape(X_train.shape[0], 48,48)\n",
    "print(X_Train[0].shape)\n",
    "plt.imshow(X_Train[10])"
   ]
  },
  {
   "cell_type": "code",
   "execution_count": 12,
   "metadata": {},
   "outputs": [],
   "source": [
    "batch_size = 64\n",
    "epochs = 50\n",
    "num_labels = 7\n",
    "width, height = 48,48"
   ]
  },
  {
   "cell_type": "code",
   "execution_count": 13,
   "metadata": {},
   "outputs": [],
   "source": [
    "X_train = X_train.reshape(X_train.shape[0], height, width, 1)\n",
    "X_test = X_test.reshape(X_test.shape[0], height, width, 1)\n"
   ]
  },
  {
   "cell_type": "code",
   "execution_count": 14,
   "metadata": {},
   "outputs": [],
   "source": [
    "Y_train = np_utils.to_categorical(Y_train, num_classes=num_labels)\n",
    "Y_test = np_utils.to_categorical(Y_test, num_classes=num_labels)"
   ]
  },
  {
   "cell_type": "code",
   "execution_count": 15,
   "metadata": {},
   "outputs": [
    {
     "data": {
      "text/plain": [
       "array([1., 0., 0., 0., 0., 0., 0.], dtype=float32)"
      ]
     },
     "execution_count": 15,
     "metadata": {},
     "output_type": "execute_result"
    }
   ],
   "source": [
    "Y_train[0]"
   ]
  },
  {
   "cell_type": "code",
   "execution_count": 16,
   "metadata": {},
   "outputs": [
    {
     "data": {
      "text/plain": [
       "(48, 48, 1)"
      ]
     },
     "execution_count": 16,
     "metadata": {},
     "output_type": "execute_result"
    }
   ],
   "source": [
    "X_train.shape[1:]"
   ]
  },
  {
   "cell_type": "code",
   "execution_count": 25,
   "metadata": {},
   "outputs": [],
   "source": [
    "model = Sequential()"
   ]
  },
  {
   "cell_type": "code",
   "execution_count": 26,
   "metadata": {},
   "outputs": [
    {
     "name": "stdout",
     "output_type": "stream",
     "text": [
      "Model: \"sequential_4\"\n",
      "_________________________________________________________________\n",
      "Layer (type)                 Output Shape              Param #   \n",
      "=================================================================\n",
      "conv2d_24 (Conv2D)           (None, 46, 46, 64)        640       \n",
      "_________________________________________________________________\n",
      "conv2d_25 (Conv2D)           (None, 44, 44, 64)        36928     \n",
      "_________________________________________________________________\n",
      "max_pooling2d_12 (MaxPooling (None, 22, 22, 64)        0         \n",
      "_________________________________________________________________\n",
      "dropout_16 (Dropout)         (None, 22, 22, 64)        0         \n",
      "_________________________________________________________________\n",
      "conv2d_26 (Conv2D)           (None, 20, 20, 128)       73856     \n",
      "_________________________________________________________________\n",
      "conv2d_27 (Conv2D)           (None, 18, 18, 128)       147584    \n",
      "_________________________________________________________________\n",
      "max_pooling2d_13 (MaxPooling (None, 9, 9, 128)         0         \n",
      "_________________________________________________________________\n",
      "dropout_17 (Dropout)         (None, 9, 9, 128)         0         \n",
      "_________________________________________________________________\n",
      "conv2d_28 (Conv2D)           (None, 7, 7, 512)         590336    \n",
      "_________________________________________________________________\n",
      "conv2d_29 (Conv2D)           (None, 5, 5, 512)         2359808   \n",
      "_________________________________________________________________\n",
      "max_pooling2d_14 (MaxPooling (None, 2, 2, 512)         0         \n",
      "_________________________________________________________________\n",
      "dropout_18 (Dropout)         (None, 2, 2, 512)         0         \n",
      "_________________________________________________________________\n",
      "flatten_3 (Flatten)          (None, 2048)              0         \n",
      "_________________________________________________________________\n",
      "dense_7 (Dense)              (None, 512)               1049088   \n",
      "_________________________________________________________________\n",
      "dropout_19 (Dropout)         (None, 512)               0         \n",
      "_________________________________________________________________\n",
      "dense_8 (Dense)              (None, 512)               262656    \n",
      "_________________________________________________________________\n",
      "dropout_20 (Dropout)         (None, 512)               0         \n",
      "_________________________________________________________________\n",
      "dense_9 (Dense)              (None, 7)                 3591      \n",
      "=================================================================\n",
      "Total params: 4,524,487\n",
      "Trainable params: 4,524,487\n",
      "Non-trainable params: 0\n",
      "_________________________________________________________________\n"
     ]
    }
   ],
   "source": [
    "model.add(Conv2D(64, (3,3), activation = 'relu', input_shape=[48,48,1]))\n",
    "model.add(Conv2D(64, (3,3), activation = 'relu'))\n",
    "model.add(MaxPooling2D(2,2))\n",
    "model.add(Dropout(0.5))\n",
    "\n",
    "model.add(Conv2D(128, (3,3),  activation = 'relu'))\n",
    "model.add(Conv2D(128, (3,3),  activation = 'relu'))\n",
    "model.add(MaxPooling2D(2,2))\n",
    "model.add(Dropout(0.5))\n",
    "\n",
    "model.add(Conv2D(512, (3,3),  activation = 'relu'))\n",
    "model.add(Conv2D(512, (3,3),  activation = 'relu'))\n",
    "model.add(MaxPooling2D(2,2))\n",
    "model.add(Dropout(0.5))\n",
    "\n",
    "# model.add(Conv2D(128, (3,3),  activation = 'relu'))\n",
    "# model.add(Conv2D(512, (3,3),  activation = 'relu'))\n",
    "# model.add(MaxPooling2D(2,2))\n",
    "# model.add(Dropout(0.5))\n",
    "\n",
    "model.add(Flatten())\n",
    "\n",
    "model.add(Dense(512, activation='relu'))\n",
    "model.add(Dropout(0.5))\n",
    "model.add(Dense(512, activation='relu'))\n",
    "model.add(Dropout(0.5))\n",
    "\n",
    "model.add(Dense(num_labels, activation = 'softmax'))\n",
    "\n",
    "model.compile(loss='categorical_crossentropy', optimizer=Adam(), metrics=['accuracy'] )\n",
    "model.summary()"
   ]
  },
  {
   "cell_type": "code",
   "execution_count": 27,
   "metadata": {
    "scrolled": true
   },
   "outputs": [
    {
     "name": "stdout",
     "output_type": "stream",
     "text": [
      "Train on 28709 samples, validate on 3589 samples\n",
      "Epoch 1/50\n",
      "28709/28709 [==============================] - 32s 1ms/step - loss: 1.8006 - accuracy: 0.2536 - val_loss: 1.7276 - val_accuracy: 0.2867\n",
      "Epoch 2/50\n",
      "28709/28709 [==============================] - 29s 1ms/step - loss: 1.6587 - accuracy: 0.3347 - val_loss: 1.5165 - val_accuracy: 0.4035\n",
      "Epoch 3/50\n",
      "28709/28709 [==============================] - 29s 1ms/step - loss: 1.5297 - accuracy: 0.3944 - val_loss: 1.4097 - val_accuracy: 0.4536\n",
      "Epoch 4/50\n",
      "28709/28709 [==============================] - 29s 1ms/step - loss: 1.4579 - accuracy: 0.4313 - val_loss: 1.3625 - val_accuracy: 0.4787\n",
      "Epoch 5/50\n",
      "28709/28709 [==============================] - 29s 1ms/step - loss: 1.4160 - accuracy: 0.4505 - val_loss: 1.3148 - val_accuracy: 0.4887\n",
      "Epoch 6/50\n",
      "28709/28709 [==============================] - 29s 1ms/step - loss: 1.3776 - accuracy: 0.4696 - val_loss: 1.2724 - val_accuracy: 0.5113\n",
      "Epoch 7/50\n",
      "28709/28709 [==============================] - 29s 1ms/step - loss: 1.3518 - accuracy: 0.4808 - val_loss: 1.2574 - val_accuracy: 0.5143\n",
      "Epoch 8/50\n",
      "28709/28709 [==============================] - 29s 1ms/step - loss: 1.3345 - accuracy: 0.4878 - val_loss: 1.2361 - val_accuracy: 0.5297\n",
      "Epoch 9/50\n",
      "28709/28709 [==============================] - 29s 1ms/step - loss: 1.3210 - accuracy: 0.4903 - val_loss: 1.2650 - val_accuracy: 0.5121\n",
      "Epoch 10/50\n",
      "28709/28709 [==============================] - 29s 1ms/step - loss: 1.2940 - accuracy: 0.5057 - val_loss: 1.2221 - val_accuracy: 0.5263\n",
      "Epoch 11/50\n",
      "28709/28709 [==============================] - 30s 1ms/step - loss: 1.2902 - accuracy: 0.5040 - val_loss: 1.1980 - val_accuracy: 0.5439\n",
      "Epoch 12/50\n",
      "28709/28709 [==============================] - 29s 1ms/step - loss: 1.2773 - accuracy: 0.5084 - val_loss: 1.2090 - val_accuracy: 0.5311\n",
      "Epoch 13/50\n",
      "28709/28709 [==============================] - 30s 1ms/step - loss: 1.2755 - accuracy: 0.5122 - val_loss: 1.2057 - val_accuracy: 0.5383\n",
      "Epoch 14/50\n",
      "28709/28709 [==============================] - 29s 1ms/step - loss: 1.2679 - accuracy: 0.5150 - val_loss: 1.1795 - val_accuracy: 0.5486\n",
      "Epoch 15/50\n",
      "28709/28709 [==============================] - 29s 1ms/step - loss: 1.2563 - accuracy: 0.5210 - val_loss: 1.1842 - val_accuracy: 0.5517\n",
      "Epoch 16/50\n",
      "28709/28709 [==============================] - 29s 1ms/step - loss: 1.2466 - accuracy: 0.5236 - val_loss: 1.2122 - val_accuracy: 0.5369\n",
      "Epoch 17/50\n",
      "28709/28709 [==============================] - 29s 1ms/step - loss: 1.2477 - accuracy: 0.5229 - val_loss: 1.1891 - val_accuracy: 0.5472\n",
      "Epoch 18/50\n",
      "28709/28709 [==============================] - 29s 1ms/step - loss: 1.2435 - accuracy: 0.5272 - val_loss: 1.1717 - val_accuracy: 0.5522\n",
      "Epoch 19/50\n",
      "28709/28709 [==============================] - 29s 1ms/step - loss: 1.2317 - accuracy: 0.5310 - val_loss: 1.1954 - val_accuracy: 0.5383\n",
      "Epoch 20/50\n",
      "28709/28709 [==============================] - 29s 1ms/step - loss: 1.2346 - accuracy: 0.5318 - val_loss: 1.1973 - val_accuracy: 0.5400\n",
      "Epoch 21/50\n",
      "28709/28709 [==============================] - 29s 1ms/step - loss: 1.2207 - accuracy: 0.5349 - val_loss: 1.1810 - val_accuracy: 0.5472\n",
      "Epoch 22/50\n",
      "28709/28709 [==============================] - 29s 1ms/step - loss: 1.2251 - accuracy: 0.5361 - val_loss: 1.1866 - val_accuracy: 0.5497\n",
      "Epoch 23/50\n",
      "28709/28709 [==============================] - 29s 1ms/step - loss: 1.2187 - accuracy: 0.5389 - val_loss: 1.1865 - val_accuracy: 0.5542\n",
      "Epoch 24/50\n",
      "28709/28709 [==============================] - 29s 1ms/step - loss: 1.2142 - accuracy: 0.5421 - val_loss: 1.1631 - val_accuracy: 0.5545\n",
      "Epoch 25/50\n",
      "28709/28709 [==============================] - 29s 1ms/step - loss: 1.2150 - accuracy: 0.5382 - val_loss: 1.1552 - val_accuracy: 0.5598\n",
      "Epoch 26/50\n",
      "28709/28709 [==============================] - 29s 1ms/step - loss: 1.2119 - accuracy: 0.5422 - val_loss: 1.1729 - val_accuracy: 0.5534\n",
      "Epoch 27/50\n",
      "28709/28709 [==============================] - 29s 1ms/step - loss: 1.2097 - accuracy: 0.5417 - val_loss: 1.1380 - val_accuracy: 0.5687\n",
      "Epoch 28/50\n",
      "28709/28709 [==============================] - 29s 1ms/step - loss: 1.2071 - accuracy: 0.5438 - val_loss: 1.1588 - val_accuracy: 0.5684\n",
      "Epoch 29/50\n",
      "28709/28709 [==============================] - 29s 1ms/step - loss: 1.2083 - accuracy: 0.5433 - val_loss: 1.1442 - val_accuracy: 0.5567\n",
      "Epoch 30/50\n",
      "28709/28709 [==============================] - 29s 1ms/step - loss: 1.2055 - accuracy: 0.5431 - val_loss: 1.1441 - val_accuracy: 0.5612\n",
      "Epoch 31/50\n",
      "28709/28709 [==============================] - 29s 1ms/step - loss: 1.2052 - accuracy: 0.5455 - val_loss: 1.1595 - val_accuracy: 0.5550\n",
      "Epoch 32/50\n",
      "28709/28709 [==============================] - 29s 1ms/step - loss: 1.2003 - accuracy: 0.5463 - val_loss: 1.1619 - val_accuracy: 0.5609\n",
      "Epoch 33/50\n",
      "28709/28709 [==============================] - 29s 1ms/step - loss: 1.1882 - accuracy: 0.5528 - val_loss: 1.1491 - val_accuracy: 0.5631\n",
      "Epoch 34/50\n",
      "28709/28709 [==============================] - 29s 1ms/step - loss: 1.2000 - accuracy: 0.5452 - val_loss: 1.1580 - val_accuracy: 0.5687\n",
      "Epoch 35/50\n",
      "28709/28709 [==============================] - 29s 1ms/step - loss: 1.1937 - accuracy: 0.5469 - val_loss: 1.1480 - val_accuracy: 0.5559\n",
      "Epoch 36/50\n",
      "28709/28709 [==============================] - 29s 1ms/step - loss: 1.1897 - accuracy: 0.5524 - val_loss: 1.1315 - val_accuracy: 0.5751\n",
      "Epoch 37/50\n",
      "28709/28709 [==============================] - 29s 1ms/step - loss: 1.1852 - accuracy: 0.5534 - val_loss: 1.1685 - val_accuracy: 0.5548\n",
      "Epoch 38/50\n",
      "28709/28709 [==============================] - 29s 1ms/step - loss: 1.1865 - accuracy: 0.5532 - val_loss: 1.1422 - val_accuracy: 0.5667\n",
      "Epoch 39/50\n",
      "28709/28709 [==============================] - 29s 1ms/step - loss: 1.1827 - accuracy: 0.5559 - val_loss: 1.1330 - val_accuracy: 0.5706\n",
      "Epoch 40/50\n",
      "28709/28709 [==============================] - 29s 1ms/step - loss: 1.1800 - accuracy: 0.5524 - val_loss: 1.1283 - val_accuracy: 0.5782\n",
      "Epoch 41/50\n",
      "28709/28709 [==============================] - 29s 1ms/step - loss: 1.1824 - accuracy: 0.5509 - val_loss: 1.1462 - val_accuracy: 0.5706\n",
      "Epoch 42/50\n",
      "28709/28709 [==============================] - 29s 1ms/step - loss: 1.1848 - accuracy: 0.5559 - val_loss: 1.1454 - val_accuracy: 0.5709\n",
      "Epoch 43/50\n",
      "28709/28709 [==============================] - 29s 1ms/step - loss: 1.1807 - accuracy: 0.5518 - val_loss: 1.1441 - val_accuracy: 0.5667\n",
      "Epoch 44/50\n",
      "28709/28709 [==============================] - 29s 1ms/step - loss: 1.1842 - accuracy: 0.5509 - val_loss: 1.1633 - val_accuracy: 0.5564\n",
      "Epoch 45/50\n",
      "28709/28709 [==============================] - 30s 1ms/step - loss: 1.1779 - accuracy: 0.5555 - val_loss: 1.1664 - val_accuracy: 0.5553\n",
      "Epoch 46/50\n",
      "28709/28709 [==============================] - 30s 1ms/step - loss: 1.1743 - accuracy: 0.5574 - val_loss: 1.1325 - val_accuracy: 0.5754\n",
      "Epoch 47/50\n",
      "28709/28709 [==============================] - 29s 1ms/step - loss: 1.1713 - accuracy: 0.5562 - val_loss: 1.1410 - val_accuracy: 0.5631\n",
      "Epoch 48/50\n",
      "28709/28709 [==============================] - 30s 1ms/step - loss: 1.1767 - accuracy: 0.5541 - val_loss: 1.1368 - val_accuracy: 0.5717\n",
      "Epoch 49/50\n",
      "28709/28709 [==============================] - 30s 1ms/step - loss: 1.1692 - accuracy: 0.5602 - val_loss: 1.1328 - val_accuracy: 0.5818\n",
      "Epoch 50/50\n",
      "28709/28709 [==============================] - 29s 1ms/step - loss: 1.1678 - accuracy: 0.5611 - val_loss: 1.1601 - val_accuracy: 0.5639\n"
     ]
    },
    {
     "data": {
      "text/plain": [
       "<keras.callbacks.callbacks.History at 0x299e7d12c48>"
      ]
     },
     "execution_count": 27,
     "metadata": {},
     "output_type": "execute_result"
    }
   ],
   "source": [
    "model.fit(X_train, Y_train,\n",
    "         batch_size=batch_size,\n",
    "         epochs=epochs,\n",
    "          validation_data = (X_test, Y_test),\n",
    "            )"
   ]
  },
  {
   "cell_type": "code",
   "execution_count": 30,
   "metadata": {},
   "outputs": [],
   "source": [
    "fer_json = model.to_json()\n",
    "with open('fer.json', 'w') as json_file:\n",
    "    json_file.write(fer_json)\n",
    "model.save_weights('fer.h5')"
   ]
  },
  {
   "cell_type": "code",
   "execution_count": null,
   "metadata": {},
   "outputs": [],
   "source": []
  }
 ],
 "metadata": {
  "kernelspec": {
   "display_name": "Python 3",
   "language": "python",
   "name": "python3"
  },
  "language_info": {
   "codemirror_mode": {
    "name": "ipython",
    "version": 3
   },
   "file_extension": ".py",
   "mimetype": "text/x-python",
   "name": "python",
   "nbconvert_exporter": "python",
   "pygments_lexer": "ipython3",
   "version": "3.7.5"
  }
 },
 "nbformat": 4,
 "nbformat_minor": 2
}
